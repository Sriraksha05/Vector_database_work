{
 "cells": [
  {
   "cell_type": "code",
   "execution_count": 1,
   "id": "b0ca7b20-0618-4c6e-a45a-c07bd939cc2f",
   "metadata": {},
   "outputs": [
    {
     "name": "stdout",
     "output_type": "stream",
     "text": [
      "Collecting faiss-cpu\n",
      "  Downloading faiss_cpu-1.9.0-cp312-cp312-win_amd64.whl.metadata (4.5 kB)\n",
      "Requirement already satisfied: numpy<3.0,>=1.25.0 in c:\\users\\punith\\anaconda3\\lib\\site-packages (from faiss-cpu) (1.26.4)\n",
      "Requirement already satisfied: packaging in c:\\users\\punith\\anaconda3\\lib\\site-packages (from faiss-cpu) (23.2)\n",
      "Downloading faiss_cpu-1.9.0-cp312-cp312-win_amd64.whl (14.9 MB)\n",
      "   ---------------------------------------- 0.0/14.9 MB ? eta -:--:--\n",
      "   ---------------------------------------- 0.0/14.9 MB ? eta -:--:--\n",
      "   ---------------------------------------- 0.0/14.9 MB 435.7 kB/s eta 0:00:35\n",
      "   ---------------------------------------- 0.1/14.9 MB 656.4 kB/s eta 0:00:23\n",
      "    --------------------------------------- 0.3/14.9 MB 1.9 MB/s eta 0:00:08\n",
      "   - -------------------------------------- 0.7/14.9 MB 4.0 MB/s eta 0:00:04\n",
      "   ---- ----------------------------------- 1.6/14.9 MB 6.8 MB/s eta 0:00:02\n",
      "   ---- ----------------------------------- 1.8/14.9 MB 7.5 MB/s eta 0:00:02\n",
      "   ----- ---------------------------------- 2.2/14.9 MB 6.6 MB/s eta 0:00:02\n",
      "   ------ --------------------------------- 2.5/14.9 MB 6.6 MB/s eta 0:00:02\n",
      "   -------- ------------------------------- 3.0/14.9 MB 7.2 MB/s eta 0:00:02\n",
      "   -------- ------------------------------- 3.1/14.9 MB 7.2 MB/s eta 0:00:02\n",
      "   --------- ------------------------------ 3.4/14.9 MB 6.6 MB/s eta 0:00:02\n",
      "   ---------- ----------------------------- 3.7/14.9 MB 6.8 MB/s eta 0:00:02\n",
      "   ---------- ----------------------------- 3.9/14.9 MB 6.5 MB/s eta 0:00:02\n",
      "   ----------- ---------------------------- 4.3/14.9 MB 6.6 MB/s eta 0:00:02\n",
      "   ----------- ---------------------------- 4.4/14.9 MB 6.6 MB/s eta 0:00:02\n",
      "   ------------ --------------------------- 4.7/14.9 MB 6.6 MB/s eta 0:00:02\n",
      "   -------------- ------------------------- 5.2/14.9 MB 6.7 MB/s eta 0:00:02\n",
      "   -------------- ------------------------- 5.4/14.9 MB 6.5 MB/s eta 0:00:02\n",
      "   --------------- ------------------------ 5.9/14.9 MB 6.7 MB/s eta 0:00:02\n",
      "   ---------------- ----------------------- 6.2/14.9 MB 6.7 MB/s eta 0:00:02\n",
      "   ----------------- ---------------------- 6.3/14.9 MB 6.5 MB/s eta 0:00:02\n",
      "   ----------------- ---------------------- 6.6/14.9 MB 6.5 MB/s eta 0:00:02\n",
      "   ------------------ --------------------- 6.8/14.9 MB 6.4 MB/s eta 0:00:02\n",
      "   ------------------ --------------------- 7.0/14.9 MB 6.3 MB/s eta 0:00:02\n",
      "   ------------------- -------------------- 7.1/14.9 MB 6.1 MB/s eta 0:00:02\n",
      "   ------------------- -------------------- 7.3/14.9 MB 6.0 MB/s eta 0:00:02\n",
      "   -------------------- ------------------- 7.5/14.9 MB 5.9 MB/s eta 0:00:02\n",
      "   -------------------- ------------------- 7.6/14.9 MB 5.9 MB/s eta 0:00:02\n",
      "   --------------------- ------------------ 7.8/14.9 MB 5.7 MB/s eta 0:00:02\n",
      "   --------------------- ------------------ 8.0/14.9 MB 5.7 MB/s eta 0:00:02\n",
      "   --------------------- ------------------ 8.2/14.9 MB 5.7 MB/s eta 0:00:02\n",
      "   ---------------------- ----------------- 8.3/14.9 MB 5.6 MB/s eta 0:00:02\n",
      "   ---------------------- ----------------- 8.5/14.9 MB 5.5 MB/s eta 0:00:02\n",
      "   ----------------------- ---------------- 8.7/14.9 MB 5.5 MB/s eta 0:00:02\n",
      "   ----------------------- ---------------- 8.9/14.9 MB 5.5 MB/s eta 0:00:02\n",
      "   ------------------------ --------------- 9.1/14.9 MB 5.4 MB/s eta 0:00:02\n",
      "   ------------------------- -------------- 9.3/14.9 MB 5.4 MB/s eta 0:00:02\n",
      "   ------------------------- -------------- 9.5/14.9 MB 5.3 MB/s eta 0:00:02\n",
      "   -------------------------- ------------- 9.7/14.9 MB 5.3 MB/s eta 0:00:01\n",
      "   -------------------------- ------------- 9.9/14.9 MB 5.3 MB/s eta 0:00:01\n",
      "   --------------------------- ------------ 10.2/14.9 MB 5.3 MB/s eta 0:00:01\n",
      "   --------------------------- ------------ 10.4/14.9 MB 5.5 MB/s eta 0:00:01\n",
      "   ---------------------------- ----------- 10.6/14.9 MB 5.5 MB/s eta 0:00:01\n",
      "   ----------------------------- ---------- 10.8/14.9 MB 5.4 MB/s eta 0:00:01\n",
      "   ----------------------------- ---------- 11.0/14.9 MB 5.3 MB/s eta 0:00:01\n",
      "   ------------------------------ --------- 11.2/14.9 MB 5.2 MB/s eta 0:00:01\n",
      "   ------------------------------ --------- 11.4/14.9 MB 5.1 MB/s eta 0:00:01\n",
      "   ------------------------------- -------- 11.6/14.9 MB 5.0 MB/s eta 0:00:01\n",
      "   ------------------------------- -------- 11.9/14.9 MB 5.0 MB/s eta 0:00:01\n",
      "   -------------------------------- ------- 12.1/14.9 MB 5.0 MB/s eta 0:00:01\n",
      "   --------------------------------- ------ 12.3/14.9 MB 4.9 MB/s eta 0:00:01\n",
      "   --------------------------------- ------ 12.5/14.9 MB 5.0 MB/s eta 0:00:01\n",
      "   ---------------------------------- ----- 12.8/14.9 MB 4.8 MB/s eta 0:00:01\n",
      "   ----------------------------------- ---- 13.0/14.9 MB 4.8 MB/s eta 0:00:01\n",
      "   ----------------------------------- ---- 13.3/14.9 MB 4.8 MB/s eta 0:00:01\n",
      "   ------------------------------------ --- 13.5/14.9 MB 4.8 MB/s eta 0:00:01\n",
      "   ------------------------------------- -- 13.8/14.9 MB 4.7 MB/s eta 0:00:01\n",
      "   ------------------------------------- -- 14.0/14.9 MB 4.7 MB/s eta 0:00:01\n",
      "   -------------------------------------- - 14.3/14.9 MB 4.8 MB/s eta 0:00:01\n",
      "   ---------------------------------------  14.6/14.9 MB 4.9 MB/s eta 0:00:01\n",
      "   ---------------------------------------  14.9/14.9 MB 4.8 MB/s eta 0:00:01\n",
      "   ---------------------------------------  14.9/14.9 MB 4.8 MB/s eta 0:00:01\n",
      "   ---------------------------------------- 14.9/14.9 MB 4.6 MB/s eta 0:00:00\n",
      "Installing collected packages: faiss-cpu\n",
      "Successfully installed faiss-cpu-1.9.0\n",
      "Note: you may need to restart the kernel to use updated packages.\n"
     ]
    }
   ],
   "source": [
    "pip install faiss-cpu\n"
   ]
  },
  {
   "cell_type": "code",
   "execution_count": 1,
   "id": "3fbf2a7d-56bf-4dbc-ab15-f278a2be9084",
   "metadata": {},
   "outputs": [],
   "source": [
    "import numpy as np\n",
    "\n",
    "# Generating random vectors for demonstration (e.g., 1000 vectors of dimension 128)\n",
    "num_vectors = 1000\n",
    "vector_dim = 128\n",
    "vectors = np.random.random((num_vectors, vector_dim)).astype('float32')\n"
   ]
  },
  {
   "cell_type": "code",
   "execution_count": 3,
   "id": "c06be8af-d7ad-4345-b1b7-6cf692ad065a",
   "metadata": {},
   "outputs": [
    {
     "name": "stdout",
     "output_type": "stream",
     "text": [
      "Number of vectors in the index: 1000\n"
     ]
    }
   ],
   "source": [
    "import faiss\n",
    "\n",
    "# Create an index with L2 distance metric\n",
    "index = faiss.IndexFlatL2(vector_dim)  # vector_dim should match the dimension of your vectors\n",
    "\n",
    "# Add vectors to the index\n",
    "index.add(vectors)\n",
    "\n",
    "# Check the number of vectors in the index\n",
    "print(\"Number of vectors in the index:\", index.ntotal)\n"
   ]
  },
  {
   "cell_type": "code",
   "execution_count": 5,
   "id": "a2b0965c-2a9a-43a5-9886-133e6a276faf",
   "metadata": {},
   "outputs": [
    {
     "name": "stdout",
     "output_type": "stream",
     "text": [
      "Distances: [[14.675123 14.719946 14.884996 14.973237 15.071972]]\n",
      "Indices of nearest neighbors: [[549  51 756 978 239]]\n"
     ]
    }
   ],
   "source": [
    "# Generate a query vector (e.g., a random vector to test)\n",
    "query_vector = np.random.random((1, vector_dim)).astype('float32')\n",
    "\n",
    "# Search for the 5 nearest neighbors\n",
    "distances, indices = index.search(query_vector, k=5)\n",
    "\n",
    "print(\"Distances:\", distances)\n",
    "print(\"Indices of nearest neighbors:\", indices)\n"
   ]
  },
  {
   "cell_type": "code",
   "execution_count": 15,
   "id": "d9893cf7-4c16-4bb1-8c3e-057788af9995",
   "metadata": {},
   "outputs": [
    {
     "name": "stdout",
     "output_type": "stream",
     "text": [
      "Distances: [[14.973237 15.447727 15.449452 15.590694 15.759472]]\n",
      "Indices of nearest neighbors: [[978 491 747 677 289]]\n"
     ]
    }
   ],
   "source": [
    "# Create a quantizer for training the IVF index\n",
    "quantizer = faiss.IndexFlatL2(vector_dim)  # Base index for quantization\n",
    "\n",
    "# Create an IVF index (pass the parameters in the correct order)\n",
    "ivf_index = faiss.IndexIVFFlat(quantizer, vector_dim, 100)  # 100 is the nlist (number of clusters)\n",
    "\n",
    "# Train the index using your data vectors\n",
    "ivf_index.train(vectors)\n",
    "\n",
    "# Add vectors to the index\n",
    "ivf_index.add(vectors)\n",
    "\n",
    "# Set the number of clusters to probe during search\n",
    "ivf_index.nprobe = 10\n",
    "\n",
    "# Search using the IVF index\n",
    "distances, indices = ivf_index.search(query_vector, k=5)\n",
    "\n",
    "print(\"Distances:\", distances)\n",
    "print(\"Indices of nearest neighbors:\", indices)\n"
   ]
  },
  {
   "cell_type": "code",
   "execution_count": 17,
   "id": "ba0d8d6e-a380-4a3e-a129-0e4eb18d2769",
   "metadata": {},
   "outputs": [],
   "source": [
    "# Save the index to disk\n",
    "faiss.write_index(ivf_index, \"vector_database.index\")\n",
    "\n",
    "# Load the index from disk\n",
    "loaded_index = faiss.read_index(\"vector_database.index\")\n"
   ]
  },
  {
   "cell_type": "code",
   "execution_count": 19,
   "id": "e7ad2775-6648-49f8-9f45-4a95f73ebaba",
   "metadata": {},
   "outputs": [
    {
     "name": "stdout",
     "output_type": "stream",
     "text": [
      "Collecting fastapiNote: you may need to restart the kernel to use updated packages.\n",
      "\n",
      "  Downloading fastapi-0.115.4-py3-none-any.whl.metadata (27 kB)\n",
      "Collecting uvicorn\n",
      "  Downloading uvicorn-0.32.0-py3-none-any.whl.metadata (6.6 kB)\n",
      "Collecting starlette<0.42.0,>=0.40.0 (from fastapi)\n",
      "  Downloading starlette-0.41.2-py3-none-any.whl.metadata (6.0 kB)\n",
      "Requirement already satisfied: pydantic!=1.8,!=1.8.1,!=2.0.0,!=2.0.1,!=2.1.0,<3.0.0,>=1.7.4 in c:\\users\\punith\\anaconda3\\lib\\site-packages (from fastapi) (2.5.3)\n",
      "Requirement already satisfied: typing-extensions>=4.8.0 in c:\\users\\punith\\anaconda3\\lib\\site-packages (from fastapi) (4.11.0)\n",
      "Requirement already satisfied: click>=7.0 in c:\\users\\punith\\anaconda3\\lib\\site-packages (from uvicorn) (8.1.7)\n",
      "Requirement already satisfied: h11>=0.8 in c:\\users\\punith\\anaconda3\\lib\\site-packages (from uvicorn) (0.14.0)\n",
      "Requirement already satisfied: colorama in c:\\users\\punith\\anaconda3\\lib\\site-packages (from click>=7.0->uvicorn) (0.4.6)\n",
      "Requirement already satisfied: annotated-types>=0.4.0 in c:\\users\\punith\\anaconda3\\lib\\site-packages (from pydantic!=1.8,!=1.8.1,!=2.0.0,!=2.0.1,!=2.1.0,<3.0.0,>=1.7.4->fastapi) (0.6.0)\n",
      "Requirement already satisfied: pydantic-core==2.14.6 in c:\\users\\punith\\anaconda3\\lib\\site-packages (from pydantic!=1.8,!=1.8.1,!=2.0.0,!=2.0.1,!=2.1.0,<3.0.0,>=1.7.4->fastapi) (2.14.6)\n",
      "Requirement already satisfied: anyio<5,>=3.4.0 in c:\\users\\punith\\anaconda3\\lib\\site-packages (from starlette<0.42.0,>=0.40.0->fastapi) (4.2.0)\n",
      "Requirement already satisfied: idna>=2.8 in c:\\users\\punith\\anaconda3\\lib\\site-packages (from anyio<5,>=3.4.0->starlette<0.42.0,>=0.40.0->fastapi) (3.7)\n",
      "Requirement already satisfied: sniffio>=1.1 in c:\\users\\punith\\anaconda3\\lib\\site-packages (from anyio<5,>=3.4.0->starlette<0.42.0,>=0.40.0->fastapi) (1.3.0)\n",
      "Downloading fastapi-0.115.4-py3-none-any.whl (94 kB)\n",
      "   ---------------------------------------- 0.0/94.7 kB ? eta -:--:--\n",
      "   ----------------- ---------------------- 41.0/94.7 kB 1.9 MB/s eta 0:00:01\n",
      "   ---------------------------------------- 94.7/94.7 kB 1.8 MB/s eta 0:00:00\n",
      "Downloading uvicorn-0.32.0-py3-none-any.whl (63 kB)\n",
      "   ---------------------------------------- 0.0/63.7 kB ? eta -:--:--\n",
      "   ---------------------------------------- 63.7/63.7 kB 3.6 MB/s eta 0:00:00\n",
      "Downloading starlette-0.41.2-py3-none-any.whl (73 kB)\n",
      "   ---------------------------------------- 0.0/73.3 kB ? eta -:--:--\n",
      "   ---------------------------------------- 73.3/73.3 kB 4.2 MB/s eta 0:00:00\n",
      "Installing collected packages: uvicorn, starlette, fastapi\n",
      "Successfully installed fastapi-0.115.4 starlette-0.41.2 uvicorn-0.32.0\n"
     ]
    }
   ],
   "source": [
    "pip install fastapi uvicorn\n"
   ]
  },
  {
   "cell_type": "code",
   "execution_count": null,
   "id": "7e499f77-835b-4ff4-8afe-6aea5a2da737",
   "metadata": {},
   "outputs": [],
   "source": []
  },
  {
   "cell_type": "code",
   "execution_count": 1,
   "id": "d20ce311-d932-46f1-8d2b-5bef26c37a5e",
   "metadata": {},
   "outputs": [],
   "source": [
    "from fastapi import FastAPI\n",
    "import numpy as np\n",
    "import faiss\n",
    "\n",
    "# Load the pre-trained FAISS index\n",
    "loaded_index = faiss.read_index(\"vector_database.index\")\n",
    "\n",
    "# Initialize FastAPI app\n",
    "app = FastAPI()\n",
    "\n",
    "@app.get(\"/search\")\n",
    "def search(query: list[float], top_k: int = 5):\n",
    "    query_vector = np.array([query], dtype='float32')\n",
    "    distances, indices = loaded_index.search(query_vector, top_k)\n",
    "    return {\"distances\": distances.tolist(), \"indices\": indices.tolist()}\n",
    "\n",
    "# Run with: uvicorn app:app --reload\n"
   ]
  },
  {
   "cell_type": "code",
   "execution_count": 3,
   "id": "e656a249-ebaf-4e32-9497-17ffa36d897a",
   "metadata": {},
   "outputs": [
    {
     "name": "stderr",
     "output_type": "stream",
     "text": [
      "INFO:__main__:FAISS index loaded successfully.\n"
     ]
    }
   ],
   "source": [
    "import logging\n",
    "\n",
    "# Configure logging\n",
    "logging.basicConfig(level=logging.INFO)\n",
    "logger = logging.getLogger(__name__)\n",
    "\n",
    "logger.info(\"FAISS index loaded successfully.\")\n"
   ]
  },
  {
   "cell_type": "code",
   "execution_count": 7,
   "id": "10b707ed-4c6f-4ac7-a7e5-a69ad0cc6668",
   "metadata": {},
   "outputs": [
    {
     "name": "stderr",
     "output_type": "stream",
     "text": [
      "INFO:__main__:New vectors added to the index\n"
     ]
    }
   ],
   "source": [
    "import numpy as np\n",
    "import faiss\n",
    "import logging\n",
    "\n",
    "# Set the vector dimension (replace with your actual dimension)\n",
    "vector_dim = 128  # Example: if your vectors have 128 features\n",
    "\n",
    "# Configure logging\n",
    "logging.basicConfig(level=logging.INFO)\n",
    "logger = logging.getLogger(__name__)\n",
    "\n",
    "# Assuming 'new_vectors' is an array of new vectors to be added\n",
    "new_vectors = np.random.random((5, vector_dim)).astype('float32')  # Example new vectors\n",
    "loaded_index.add(new_vectors)\n",
    "logger.info(\"New vectors added to the index\")\n"
   ]
  },
  {
   "cell_type": "code",
   "execution_count": null,
   "id": "5bce171e-d363-4f51-abaf-c0fcc51977e5",
   "metadata": {},
   "outputs": [],
   "source": []
  }
 ],
 "metadata": {
  "kernelspec": {
   "display_name": "Python 3 (ipykernel)",
   "language": "python",
   "name": "python3"
  },
  "language_info": {
   "codemirror_mode": {
    "name": "ipython",
    "version": 3
   },
   "file_extension": ".py",
   "mimetype": "text/x-python",
   "name": "python",
   "nbconvert_exporter": "python",
   "pygments_lexer": "ipython3",
   "version": "3.12.4"
  }
 },
 "nbformat": 4,
 "nbformat_minor": 5
}
